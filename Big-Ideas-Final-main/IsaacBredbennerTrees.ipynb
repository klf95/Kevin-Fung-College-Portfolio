{
 "cells": [
  {
   "cell_type": "markdown",
   "id": "advance-klein",
   "metadata": {},
   "source": [
    "## ***General Plan*** ##\n",
    "\n",
    "1 point for last, 2 for seconds to last, etc...\n",
    "Sum up points at the end\n",
    "Neighborhood w/ the most points wins this criteria\n",
    "\n",
    "One potential problem with this methodology is that winning a subcategory by a little bit and by a lot are weighted the same, which may be a problem or it may end up valuing neighborhoods that are good in multiple different aspects of tree life rather than just really good in one facet\n",
    "\n",
    "May have to deal with NaN winning (hopefully not)"
   ]
  },
  {
   "cell_type": "code",
   "execution_count": 1,
   "id": "narrow-sustainability",
   "metadata": {},
   "outputs": [],
   "source": [
    "import pandas as pd\n",
    "import geopandas\n",
    "import numpy as np\n",
    "%matplotlib inline\n",
    "import matplotlib.pyplot as plt"
   ]
  },
  {
   "cell_type": "code",
   "execution_count": 2,
   "id": "controlling-custody",
   "metadata": {},
   "outputs": [
    {
     "name": "stderr",
     "output_type": "stream",
     "text": [
      "C:\\Users\\isaac\\anaconda3\\envs\\cmpinf0010\\lib\\site-packages\\IPython\\core\\interactiveshell.py:3146: DtypeWarning: Columns (1) have mixed types.Specify dtype option on import or set low_memory=False.\n",
      "  has_raised = await self.run_ast_nodes(code_ast.body, cell_name,\n"
     ]
    }
   ],
   "source": [
    "trees = pd.read_csv(\"https://data.wprdc.org/datastore/dump/1515a93c-73e3-4425-9b35-1cd11b2196da\")"
   ]
  },
  {
   "cell_type": "code",
   "execution_count": 3,
   "id": "dying-novelty",
   "metadata": {},
   "outputs": [
    {
     "name": "stdout",
     "output_type": "stream",
     "text": [
      "(45709, 58)\n",
      "<pandas.core.groupby.generic.DataFrameGroupBy object at 0x00000259E227DAF0>\n"
     ]
    }
   ],
   "source": [
    "print(trees.shape)\n",
    "treesByNeighborhood = trees.groupby('neighborhood')\n",
    "print(treesByNeighborhood)"
   ]
  },
  {
   "cell_type": "markdown",
   "id": "continent-clothing",
   "metadata": {},
   "source": [
    "TreesByNeighborhood now holds the GroupBy object for the dataset when it has been grouped by the \"neighborhood\" category. This will make it easier to parse the data with that grouping in the future, since this object can be used instead of remaking it everytime."
   ]
  },
  {
   "cell_type": "code",
   "execution_count": 4,
   "id": "caring-mouse",
   "metadata": {},
   "outputs": [
    {
     "name": "stdout",
     "output_type": "stream",
     "text": [
      "<class 'pandas.core.frame.DataFrame'>\n",
      "id                                           45709\n",
      "address_number                               38803\n",
      "street                                       38867\n",
      "common_name                                  45606\n",
      "scientific_name                              45606\n",
      "height                                       41335\n",
      "width                                        41300\n",
      "growth_space_length                          41515\n",
      "growth_space_width                           41517\n",
      "growth_space_type                            45516\n",
      "diameter_base_height                         41380\n",
      "stems                                        45707\n",
      "overhead_utilities                           45527\n",
      "land_use                                     45265\n",
      "condition                                    39973\n",
      "stormwater_benefits_dollar_value             40044\n",
      "stormwater_benefits_runoff_elim              40044\n",
      "property_value_benefits_dollarvalue          40044\n",
      "property_value_benefits_leaf_surface_area    40044\n",
      "energy_benefits_electricity_dollar_value     40044\n",
      "energy_benefits_gas_dollar_value             40044\n",
      "air_quality_benfits_o3dep_dollar_value       40044\n",
      "air_quality_benfits_o3dep_lbs                40044\n",
      "air_quality_benfits_vocavd_dollar_value      40044\n",
      "air_quality_benfits_vocavd_lbs               40044\n",
      "air_quality_benfits_no2dep_dollar_value      40044\n",
      "air_quality_benfits_no2dep_lbs               40044\n",
      "air_quality_benfits_no2avd_dollar_value      40044\n",
      "air_quality_benfits_no2avd_lbs               40044\n",
      "air_quality_benfits_so2dep_dollar_value      40044\n",
      "air_quality_benfits_so2dep_lbs               40044\n",
      "air_quality_benfits_so2avd_dollar_value      40044\n",
      "air_quality_benfits_so2avd_lbs               40044\n",
      "air_quality_benfits_pm10depdollar_value      40044\n",
      "air_quality_benfits_pm10dep_lbs              40044\n",
      "air_quality_benfits_pm10avd_dollar_value     40044\n",
      "air_quality_benfits_pm10avd_lbs              40044\n",
      "air_quality_benfits_total_dollar_value       40044\n",
      "air_quality_benfits_total_lbs                40044\n",
      "co2_benefits_dollar_value                    40044\n",
      "co2_benefits_sequestered_lbs                 40044\n",
      "co2_benefits_sequestered_value               40044\n",
      "co2_benefits_avoided_lbs                     40044\n",
      "co2_benefits_avoided_value                   40044\n",
      "co2_benefits_decomp_lbs                      40044\n",
      "co2_benefits_maint_lbs                       40044\n",
      "co2_benefits_totalco2_lbs                    40044\n",
      "overall_benefits_dollar_value                40044\n",
      "neighborhood                                 45450\n",
      "council_district                             45446\n",
      "ward                                         45449\n",
      "tract                                        45458\n",
      "public_works_division                        45450\n",
      "pli_division                                 45449\n",
      "police_zone                                  45450\n",
      "fire_zone                                    45457\n",
      "latitude                                     45458\n",
      "longitude                                    45458\n",
      "dtype: int64\n",
      "<class 'pandas.core.series.Series'>\n",
      "<class 'numpy.int64'>\n",
      "45450\n"
     ]
    }
   ],
   "source": [
    "print(type(trees))\n",
    "neighborhood_trees = trees.count()\n",
    "print(neighborhood_trees)\n",
    "print(type(neighborhood_trees))\n",
    "print(type(neighborhood_trees['neighborhood']))\n",
    "print(neighborhood_trees['neighborhood'])"
   ]
  },
  {
   "cell_type": "code",
   "execution_count": 5,
   "id": "technological-insert",
   "metadata": {},
   "outputs": [
    {
     "name": "stdout",
     "output_type": "stream",
     "text": [
      "90\n"
     ]
    }
   ],
   "source": [
    "print(trees['neighborhood'].nunique())"
   ]
  },
  {
   "cell_type": "code",
   "execution_count": 6,
   "id": "mental-necessity",
   "metadata": {},
   "outputs": [
    {
     "name": "stdout",
     "output_type": "stream",
     "text": [
      "['Homewood North' 'Oakwood' 'South Side Flats' 'East Allegheny'\n",
      " 'Highland Park' 'Stanton Heights' 'Sheraden' 'Chartiers City' 'Elliott'\n",
      " 'Morningside' 'Bloomfield' 'Friendship' 'Garfield' 'Polish Hill'\n",
      " 'Lower Lawrenceville' 'Central Northside' 'East Liberty'\n",
      " 'Central Lawrenceville' 'Shadyside' 'Allegheny Center' 'Homewood South'\n",
      " 'Point Breeze North' 'East Hills' 'Homewood West' 'Greenfield'\n",
      " 'Hazelwood' 'Squirrel Hill South' 'Marshall-Shadeland' 'Brighton Heights'\n",
      " 'North Shore' 'Overbrook' 'Knoxville' 'Brookline' 'South Side Slopes'\n",
      " 'Arlington' 'Arlington Heights' 'Carrick' 'Bedford Dwellings'\n",
      " 'Central Business District' 'Bluff' 'West Oakland' 'South Oakland'\n",
      " 'Squirrel Hill North' 'Point Breeze' 'Lincoln-Lemington-Belmar' 'Bon Air'\n",
      " 'Mount Washington' 'California-Kirkbride' 'New Homestead'\n",
      " 'Central Oakland' 'Crafton Heights' 'Beechview' 'Manchester' 'Allentown'\n",
      " 'Beltzhoover' 'Allegheny West' 'Chateau' 'Duquesne Heights' 'Perry North'\n",
      " 'Perry South' 'Middle Hill' 'Troy Hill' 'Terrace Village' 'Upper Hill'\n",
      " 'North Oakland' 'Fineview' 'Strip District' 'Windgap' 'Crawford-Roberts'\n",
      " 'Larimer' 'Lincoln Place' 'Regent Square' 'Banksville' 'Swisshelm Park'\n",
      " 'Spring Garden' 'Spring Hill-City View' 'Westwood' 'Fairywood'\n",
      " 'Summer Hill' 'West End' 'Upper Lawrenceville' 'Ridgemont' 'Esplen'\n",
      " 'East Carnegie' 'South Shore' 'St. Clair' 'Mt. Oliver'\n",
      " 'Northview Heights' nan 'Glen Hazel' 'Hays']\n",
      "<class 'numpy.ndarray'>\n"
     ]
    }
   ],
   "source": [
    "print(trees['neighborhood'].unique())\n",
    "print(type(trees['neighborhood'].unique()))"
   ]
  },
  {
   "cell_type": "code",
   "execution_count": 7,
   "id": "original-tissue",
   "metadata": {},
   "outputs": [
    {
     "name": "stdout",
     "output_type": "stream",
     "text": [
      "Homewood North       0\n",
      "Oakwood              0\n",
      "South Side Flats     0\n",
      "East Allegheny       0\n",
      "Highland Park        0\n",
      "                    ..\n",
      "Mt. Oliver           0\n",
      "Northview Heights    0\n",
      "NaN                  0\n",
      "Glen Hazel           0\n",
      "Hays                 0\n",
      "Length: 91, dtype: int64\n"
     ]
    }
   ],
   "source": [
    "neighborhood_points = {}\n",
    "np1 = {}\n",
    "np2 = {}\n",
    "np3 = {}\n",
    "np4 = {}\n",
    "np5 = {}\n",
    "np6 = {}\n",
    "np7 = {}\n",
    "np8 = {}\n",
    "for neighborhood in trees['neighborhood'].unique():\n",
    "    neighborhood_points[neighborhood] = 0\n",
    "    np1[neighborhood] = 0\n",
    "    np2[neighborhood] = 0\n",
    "    np3[neighborhood] = 0\n",
    "    np4[neighborhood] = 0\n",
    "    np5[neighborhood] = 0\n",
    "    np6[neighborhood] = 0\n",
    "    np7[neighborhood] = 0\n",
    "    #np8[neighborhood] = 0\n",
    "    \n",
    "#print(neighborhood_points)\n",
    "\n",
    "#del neighborhood_points['NaN']\n",
    "      \n",
    "points = pd.Series(neighborhood_points)\n",
    "\n",
    "print(points)"
   ]
  },
  {
   "cell_type": "markdown",
   "id": "monthly-momentum",
   "metadata": {},
   "source": [
    "This code sets up the dictionaries and series that will be used to keep track of the scores going forward. The points series will hold the running tally of the combined points while the dictionaries will hold the points for the individual categories. This will make it easier to graph and see how different categories affected the scoring, and who wins in the end."
   ]
  },
  {
   "cell_type": "markdown",
   "id": "interested-philosophy",
   "metadata": {},
   "source": [
    "Points holds the series\n",
    "\n",
    "NaN appears since not every tree has a neighborhood attributed to it\n",
    "\n",
    "At any point in the notebook you can just say points = pd.Series(neighborhood_points) to reset the points for easier test\n",
    "(Eventually clean up the notebook when looking for final answer)"
   ]
  },
  {
   "cell_type": "code",
   "execution_count": 8,
   "id": "wireless-thong",
   "metadata": {},
   "outputs": [
    {
     "name": "stdout",
     "output_type": "stream",
     "text": [
      "neighborhood\n",
      "Allegheny Center       171.791881\n",
      "Allegheny West         149.084659\n",
      "Allentown              120.451284\n",
      "Arlington               71.204809\n",
      "Arlington Heights      218.471558\n",
      "                          ...    \n",
      "Upper Lawrenceville    111.307346\n",
      "West End                82.564056\n",
      "West Oakland            76.122696\n",
      "Westwood               126.776044\n",
      "Windgap                135.477024\n",
      "Name: overall_benefits_dollar_value, Length: 90, dtype: float64\n",
      "\n",
      "neighborhood\n",
      "Troy Hill                 43.015155\n",
      "South Shore               45.616670\n",
      "Polish Hill               65.607477\n",
      "Central Lawrenceville     66.689438\n",
      "Strip District            69.347687\n",
      "                            ...    \n",
      "St. Clair                170.079518\n",
      "Allegheny Center         171.791881\n",
      "Hays                     181.397515\n",
      "Fairywood                207.420886\n",
      "Arlington Heights        218.471558\n",
      "Name: overall_benefits_dollar_value, Length: 90, dtype: float64\n",
      "\n",
      "Homewood North       0\n",
      "Oakwood              0\n",
      "South Side Flats     0\n",
      "East Allegheny       0\n",
      "Highland Park        0\n",
      "                    ..\n",
      "Mt. Oliver           0\n",
      "Northview Heights    0\n",
      "NaN                  0\n",
      "Glen Hazel           0\n",
      "Hays                 0\n",
      "Length: 91, dtype: int64\n"
     ]
    }
   ],
   "source": [
    "avgOverallBenefitsDollarValue = treesByNeighborhood['overall_benefits_dollar_value'].mean()\n",
    "print(avgOverallBenefitsDollarValue)\n",
    "print()\n",
    "sortedAvgOverallBenefitsDollarValue = avgOverallBenefitsDollarValue.sort_values()\n",
    "print(sortedAvgOverallBenefitsDollarValue)\n",
    "print()\n",
    "print(points)"
   ]
  },
  {
   "cell_type": "markdown",
   "id": "impaired-hammer",
   "metadata": {},
   "source": [
    "This code shows the basic format that will be used for getting winners of the individual categories. As stated eariler, TreesByNeighborhood holds the GroupBy object for the dataset with regards to the \"neighborhood\" column so all this code does is it grabs a specific property column that is currently being tested and then calculates the mean for that, and since it was Grouped By neighborhood that occurs for each neighborhood. Then those values are sorted using the sort_values() function and the result is stored into a new variable. This makes it relatively easy to then get the points for each neighborhood and update the relevant Series and dictionary."
   ]
  },
  {
   "cell_type": "code",
   "execution_count": 9,
   "id": "acting-liberty",
   "metadata": {},
   "outputs": [
    {
     "name": "stdout",
     "output_type": "stream",
     "text": [
      "Index(['Troy Hill', 'South Shore', 'Polish Hill', 'Central Lawrenceville',\n",
      "       'Strip District', 'Arlington', 'Bedford Dwellings', 'West Oakland',\n",
      "       'South Side Flats', 'Glen Hazel', 'Bluff', 'South Side Slopes',\n",
      "       'West End', 'East Liberty', 'Friendship', 'South Oakland',\n",
      "       'Terrace Village', 'Lower Lawrenceville', 'Central Northside',\n",
      "       'Duquesne Heights', 'Spring Garden', 'Central Business District',\n",
      "       'Crawford-Roberts', 'Middle Hill', 'East Allegheny', 'Mt. Oliver',\n",
      "       'Bloomfield', 'Morningside', 'Larimer', 'Chateau',\n",
      "       'Spring Hill-City View', 'Manchester', 'North Shore',\n",
      "       'Mount Washington', 'Garfield', 'Bon Air', 'Esplen',\n",
      "       'California-Kirkbride', 'Beltzhoover', 'Homewood West', 'Carrick',\n",
      "       'Beechview', 'Greenfield', 'Upper Lawrenceville', 'North Oakland',\n",
      "       'Ridgemont', 'Homewood South', 'Homewood North', 'Marshall-Shadeland',\n",
      "       'Hazelwood', 'Overbrook', 'Allentown', 'Knoxville', 'Brighton Heights',\n",
      "       'Sheraden', 'Upper Hill', 'Westwood', 'Shadyside', 'Central Oakland',\n",
      "       'Lincoln Place', 'Brookline', 'Banksville', 'Oakwood', 'Chartiers City',\n",
      "       'Elliott', 'Crafton Heights', 'Windgap', 'Summer Hill', 'Perry South',\n",
      "       'Point Breeze North', 'Fineview', 'Swisshelm Park', 'New Homestead',\n",
      "       'Squirrel Hill South', 'Regent Square', 'East Hills', 'Point Breeze',\n",
      "       'Perry North', 'Highland Park', 'Allegheny West',\n",
      "       'Lincoln-Lemington-Belmar', 'East Carnegie', 'Northview Heights',\n",
      "       'Squirrel Hill North', 'Stanton Heights', 'St. Clair',\n",
      "       'Allegheny Center', 'Hays', 'Fairywood', 'Arlington Heights'],\n",
      "      dtype='object', name='neighborhood')\n",
      "Troy Hill\n",
      "\n",
      "90\n"
     ]
    }
   ],
   "source": [
    "print(sortedAvgOverallBenefitsDollarValue.index)\n",
    "print(sortedAvgOverallBenefitsDollarValue.index[0])\n",
    "print()\n",
    "print(len(sortedAvgOverallBenefitsDollarValue))\n",
    "#print(points)"
   ]
  },
  {
   "cell_type": "code",
   "execution_count": 10,
   "id": "recreational-plumbing",
   "metadata": {},
   "outputs": [
    {
     "name": "stdout",
     "output_type": "stream",
     "text": [
      "Homewood North       0\n",
      "Oakwood              0\n",
      "South Side Flats     0\n",
      "East Allegheny       0\n",
      "Highland Park        0\n",
      "                    ..\n",
      "Mt. Oliver           0\n",
      "Northview Heights    0\n",
      "NaN                  0\n",
      "Glen Hazel           0\n",
      "Hays                 0\n",
      "Length: 91, dtype: int64\n",
      "NaN                       0\n",
      "Troy Hill                 1\n",
      "South Shore               2\n",
      "Polish Hill               3\n",
      "Central Lawrenceville     4\n",
      "                         ..\n",
      "St. Clair                86\n",
      "Allegheny Center         87\n",
      "Hays                     88\n",
      "Fairywood                89\n",
      "Arlington Heights        90\n",
      "Length: 91, dtype: int64\n",
      "{'Homewood North': 48, 'Oakwood': 63, 'South Side Flats': 9, 'East Allegheny': 25, 'Highland Park': 79, 'Stanton Heights': 85, 'Sheraden': 55, 'Chartiers City': 64, 'Elliott': 65, 'Morningside': 28, 'Bloomfield': 27, 'Friendship': 15, 'Garfield': 35, 'Polish Hill': 3, 'Lower Lawrenceville': 18, 'Central Northside': 19, 'East Liberty': 14, 'Central Lawrenceville': 4, 'Shadyside': 58, 'Allegheny Center': 87, 'Homewood South': 47, 'Point Breeze North': 70, 'East Hills': 76, 'Homewood West': 40, 'Greenfield': 43, 'Hazelwood': 50, 'Squirrel Hill South': 74, 'Marshall-Shadeland': 49, 'Brighton Heights': 54, 'North Shore': 33, 'Overbrook': 51, 'Knoxville': 53, 'Brookline': 61, 'South Side Slopes': 12, 'Arlington': 6, 'Arlington Heights': 90, 'Carrick': 41, 'Bedford Dwellings': 7, 'Central Business District': 22, 'Bluff': 11, 'West Oakland': 8, 'South Oakland': 16, 'Squirrel Hill North': 84, 'Point Breeze': 77, 'Lincoln-Lemington-Belmar': 81, 'Bon Air': 36, 'Mount Washington': 34, 'California-Kirkbride': 38, 'New Homestead': 73, 'Central Oakland': 59, 'Crafton Heights': 66, 'Beechview': 42, 'Manchester': 32, 'Allentown': 52, 'Beltzhoover': 39, 'Allegheny West': 80, 'Chateau': 30, 'Duquesne Heights': 20, 'Perry North': 78, 'Perry South': 69, 'Middle Hill': 24, 'Troy Hill': 1, 'Terrace Village': 17, 'Upper Hill': 56, 'North Oakland': 45, 'Fineview': 71, 'Strip District': 5, 'Windgap': 67, 'Crawford-Roberts': 23, 'Larimer': 29, 'Lincoln Place': 60, 'Regent Square': 75, 'Banksville': 62, 'Swisshelm Park': 72, 'Spring Garden': 21, 'Spring Hill-City View': 31, 'Westwood': 57, 'Fairywood': 89, 'Summer Hill': 68, 'West End': 13, 'Upper Lawrenceville': 44, 'Ridgemont': 46, 'Esplen': 37, 'East Carnegie': 82, 'South Shore': 2, 'St. Clair': 86, 'Mt. Oliver': 26, 'Northview Heights': 83, nan: 0, 'Glen Hazel': 10, 'Hays': 88}\n"
     ]
    }
   ],
   "source": [
    "print(points)\n",
    "\n",
    "for i in range(len(sortedAvgOverallBenefitsDollarValue)):\n",
    "    neighborhood = sortedAvgOverallBenefitsDollarValue.index[i]\n",
    "    points.loc[neighborhood] += (i+1)\n",
    "    np1[neighborhood] += (i+1)\n",
    "\n",
    "points = points.sort_values()\n",
    "print(points)\n",
    "print(np1)\n",
    "   \n"
   ]
  },
  {
   "cell_type": "markdown",
   "id": "fantastic-mentor",
   "metadata": {},
   "source": [
    "This code is the second part of the above structure. This utilizes the sorted data for the category, in this case \"overall_benefits_dollar_value\" to update the correct Series and dictionary. Then, after the loop has been run, the points are sorted again so that at any point it is easy to see what neighborhood is leading after a specific category."
   ]
  },
  {
   "cell_type": "markdown",
   "id": "distinguished-hanging",
   "metadata": {},
   "source": [
    "According to this, the neighborhood that has the highest overall dollar value benefit from trees is Arlington Heights, followed by Fairywood and Hays, w/ Troy Hill coming in last."
   ]
  },
  {
   "cell_type": "markdown",
   "id": "changed-working",
   "metadata": {},
   "source": [
    "Do the stuff above w/ the grabbing a column after it was grouped by neighborhood and then sorting and putting that in the points thing for the following columns: stormwater_benefits_dollar_value, property_value_benefits_dollarvalue, energy_benefits_electricity_dollar_value, energy_benefits_gas_dollar_value, air_quality_benfits_total_dollar_value, co2_benefits_dollar_value. Also, figure out a way to doing the conditions as well (maybe 10 points for good, 5, for poor, 0 for something else, idk rn figure it out later)."
   ]
  },
  {
   "cell_type": "code",
   "execution_count": 11,
   "id": "comfortable-branch",
   "metadata": {},
   "outputs": [
    {
     "name": "stdout",
     "output_type": "stream",
     "text": [
      "NaN                       0\n",
      "Troy Hill                 1\n",
      "South Shore               2\n",
      "Polish Hill               3\n",
      "Central Lawrenceville     4\n",
      "                         ..\n",
      "St. Clair                86\n",
      "Allegheny Center         87\n",
      "Hays                     88\n",
      "Fairywood                89\n",
      "Arlington Heights        90\n",
      "Length: 91, dtype: int64\n",
      "\n",
      "neighborhood\n",
      "Allegheny Center       17.628934\n",
      "Allegheny West         14.579179\n",
      "Allentown               8.778630\n",
      "Arlington               4.747723\n",
      "Arlington Heights      19.794012\n",
      "                         ...    \n",
      "Upper Lawrenceville     6.806012\n",
      "West End                4.734003\n",
      "West Oakland            3.317403\n",
      "Westwood               12.380816\n",
      "Windgap                11.913075\n",
      "Name: stormwater_benefits_dollar_value, Length: 90, dtype: float64\n",
      "\n",
      "neighborhood\n",
      "Troy Hill                 1.595947\n",
      "South Shore               2.219668\n",
      "Strip District            2.929244\n",
      "Glen Hazel                3.017582\n",
      "Central Lawrenceville     3.179640\n",
      "                           ...    \n",
      "Stanton Heights          16.002401\n",
      "Allegheny Center         17.628934\n",
      "Squirrel Hill North      17.844550\n",
      "Fairywood                19.217809\n",
      "Arlington Heights        19.794012\n",
      "Name: stormwater_benefits_dollar_value, Length: 90, dtype: float64\n",
      "\n",
      "NaN                        0\n",
      "Troy Hill                  2\n",
      "South Shore                4\n",
      "Strip District             8\n",
      "Central Lawrenceville      9\n",
      "                        ... \n",
      "Stanton Heights          171\n",
      "Squirrel Hill North      172\n",
      "Allegheny Center         174\n",
      "Fairywood                178\n",
      "Arlington Heights        180\n",
      "Length: 91, dtype: int64\n"
     ]
    }
   ],
   "source": [
    "print(points)\n",
    "print()\n",
    "\n",
    "avgStormWaterBenefitsDollarValue = treesByNeighborhood['stormwater_benefits_dollar_value'].mean()\n",
    "print(avgStormWaterBenefitsDollarValue)\n",
    "sortedAvgStormWaterBenefitsDollarValue = avgStormWaterBenefitsDollarValue.sort_values()\n",
    "print()\n",
    "print(sortedAvgStormWaterBenefitsDollarValue)\n",
    "print()\n",
    "\n",
    "for i in range(len(sortedAvgStormWaterBenefitsDollarValue)):\n",
    "    neighborhood = sortedAvgStormWaterBenefitsDollarValue.index[i]\n",
    "    points.loc[neighborhood] += (i+1)\n",
    "    np2[neighborhood] += (i+1)\n",
    "\n",
    "points = points.sort_values()\n",
    "print(points)"
   ]
  },
  {
   "cell_type": "code",
   "execution_count": 12,
   "id": "constant-andrews",
   "metadata": {},
   "outputs": [
    {
     "name": "stdout",
     "output_type": "stream",
     "text": [
      "NaN                        0\n",
      "Troy Hill                  4\n",
      "South Shore                5\n",
      "Central Lawrenceville     17\n",
      "Glen Hazel                17\n",
      "                        ... \n",
      "Squirrel Hill North      251\n",
      "Stanton Heights          255\n",
      "Allegheny Center         257\n",
      "Fairywood                265\n",
      "Arlington Heights        268\n",
      "Length: 91, dtype: int64\n"
     ]
    }
   ],
   "source": [
    "avgPropertyValueBenefitsDollarValue = treesByNeighborhood['property_value_benefits_dollarvalue'].mean()\n",
    "\n",
    "sortedAvgPropertyValueBenefitsDollarValue = avgPropertyValueBenefitsDollarValue.sort_values()\n",
    "\n",
    "\n",
    "for i in range(len(sortedAvgPropertyValueBenefitsDollarValue)):\n",
    "    neighborhood = sortedAvgPropertyValueBenefitsDollarValue.index[i]\n",
    "    points.loc[neighborhood] += (i+1)\n",
    "    np3[neighborhood] += (i+1)\n",
    "\n",
    "points = points.sort_values()\n",
    "print(points)"
   ]
  },
  {
   "cell_type": "code",
   "execution_count": 13,
   "id": "russian-cargo",
   "metadata": {},
   "outputs": [
    {
     "name": "stdout",
     "output_type": "stream",
     "text": [
      "NaN                        0\n",
      "Troy Hill                  5\n",
      "South Shore                7\n",
      "Central Lawrenceville     21\n",
      "Strip District            21\n",
      "                        ... \n",
      "Squirrel Hill North      338\n",
      "Stanton Heights          340\n",
      "Allegheny Center         343\n",
      "Fairywood                354\n",
      "Arlington Heights        358\n",
      "Length: 91, dtype: int64\n"
     ]
    }
   ],
   "source": [
    "avgEnergyBenefitsElectricityDollarValue = treesByNeighborhood['energy_benefits_electricity_dollar_value'].mean()\n",
    "\n",
    "sortedAvgEnergyBenefitsElectricityDollarValue = avgEnergyBenefitsElectricityDollarValue.sort_values()\n",
    "\n",
    "\n",
    "for i in range(len(sortedAvgEnergyBenefitsElectricityDollarValue)):\n",
    "    neighborhood = sortedAvgEnergyBenefitsElectricityDollarValue.index[i]\n",
    "    points.loc[neighborhood] += (i+1)\n",
    "    np4[neighborhood] += (i+1)\n",
    "\n",
    "points = points.sort_values()\n",
    "print(points)"
   ]
  },
  {
   "cell_type": "code",
   "execution_count": 14,
   "id": "starting-transaction",
   "metadata": {},
   "outputs": [
    {
     "name": "stdout",
     "output_type": "stream",
     "text": [
      "NaN                        0\n",
      "Troy Hill                  6\n",
      "South Shore                9\n",
      "Strip District            24\n",
      "Central Lawrenceville     26\n",
      "                        ... \n",
      "Squirrel Hill North      425\n",
      "Stanton Heights          425\n",
      "Allegheny Center         429\n",
      "Fairywood                443\n",
      "Arlington Heights        448\n",
      "Length: 91, dtype: int64\n"
     ]
    }
   ],
   "source": [
    "avgEnergyBenefitsGasDollarValue = treesByNeighborhood['energy_benefits_gas_dollar_value'].mean()\n",
    "\n",
    "sortedAvgEnergyBenefitsGasDollarValue = avgEnergyBenefitsGasDollarValue.sort_values()\n",
    "\n",
    "\n",
    "for i in range(len(sortedAvgEnergyBenefitsGasDollarValue)):\n",
    "    neighborhood = sortedAvgEnergyBenefitsGasDollarValue.index[i]\n",
    "    points.loc[neighborhood] += (i+1)\n",
    "    np5[neighborhood] += (i+1)\n",
    "\n",
    "points = points.sort_values()\n",
    "print(points)"
   ]
  },
  {
   "cell_type": "code",
   "execution_count": 15,
   "id": "lyric-utility",
   "metadata": {},
   "outputs": [
    {
     "name": "stdout",
     "output_type": "stream",
     "text": [
      "NaN                        0\n",
      "Troy Hill                  7\n",
      "South Shore               13\n",
      "Strip District            29\n",
      "Central Lawrenceville     33\n",
      "                        ... \n",
      "Stanton Heights          512\n",
      "Squirrel Hill North      514\n",
      "Allegheny Center         519\n",
      "Fairywood                531\n",
      "Arlington Heights        534\n",
      "Length: 91, dtype: int64\n"
     ]
    }
   ],
   "source": [
    "avgAirQualityBenefitsTotalDollarValue = treesByNeighborhood['air_quality_benfits_total_dollar_value'].mean()\n",
    "\n",
    "sortedAvgAirQualityBenefitsTotalDollarValue = avgAirQualityBenefitsTotalDollarValue.sort_values()\n",
    "\n",
    "\n",
    "for i in range(len(sortedAvgAirQualityBenefitsTotalDollarValue)):\n",
    "    neighborhood = sortedAvgAirQualityBenefitsTotalDollarValue.index[i]\n",
    "    points.loc[neighborhood] += (i+1)\n",
    "    np6[neighborhood] += (i+1)\n",
    "\n",
    "points = points.sort_values()\n",
    "print(points)"
   ]
  },
  {
   "cell_type": "code",
   "execution_count": 16,
   "id": "essential-rwanda",
   "metadata": {},
   "outputs": [
    {
     "name": "stdout",
     "output_type": "stream",
     "text": [
      "NaN                        0\n",
      "Troy Hill                  9\n",
      "South Shore               17\n",
      "Strip District            34\n",
      "Central Lawrenceville     40\n",
      "                        ... \n",
      "Stanton Heights          598\n",
      "Squirrel Hill North      603\n",
      "Allegheny Center         607\n",
      "Arlington Heights        607\n",
      "Fairywood                621\n",
      "Length: 91, dtype: int64\n"
     ]
    }
   ],
   "source": [
    "avgco2BenefitsDollarValue = treesByNeighborhood['co2_benefits_dollar_value'].mean()\n",
    "\n",
    "sortedAvgco2BenefitsDollarValue = avgco2BenefitsDollarValue.sort_values()\n",
    "\n",
    "\n",
    "for i in range(len(sortedAvgco2BenefitsDollarValue)):\n",
    "    neighborhood = sortedAvgco2BenefitsDollarValue.index[i]\n",
    "    points.loc[neighborhood] += (i+1)\n",
    "    np7[neighborhood] += (i+1)\n",
    "\n",
    "points = points.sort_values()\n",
    "print(points)"
   ]
  },
  {
   "cell_type": "markdown",
   "id": "complete-missouri",
   "metadata": {},
   "source": [
    "Still need to account for the health/condition of the trees\n",
    "\n",
    "Then after that is done this is where I will put the graph that shows the progression of the score"
   ]
  },
  {
   "cell_type": "code",
   "execution_count": 28,
   "id": "corresponding-diploma",
   "metadata": {},
   "outputs": [
    {
     "name": "stdout",
     "output_type": "stream",
     "text": [
      "                       Final Ranking  OverallBenefits$  StormwaterBenefits$  \\\n",
      "NaN                                0                 0                    0   \n",
      "Troy Hill                          9                 1                    1   \n",
      "South Shore                       17                 2                    2   \n",
      "Strip District                    34                 5                    3   \n",
      "Central Lawrenceville             40                 4                    5   \n",
      "...                              ...               ...                  ...   \n",
      "Stanton Heights                  598                85                   86   \n",
      "Squirrel Hill North              603                84                   88   \n",
      "Allegheny Center                 607                87                   87   \n",
      "Arlington Heights                607                90                   90   \n",
      "Fairywood                        621                89                   89   \n",
      "\n",
      "                       PropertyValueBenefits$  EnergyBenefitsElectricity$  \\\n",
      "NaN                                         0                           0   \n",
      "Troy Hill                                   2                           1   \n",
      "South Shore                                 1                           2   \n",
      "Strip District                             10                           3   \n",
      "Central Lawrenceville                       8                           4   \n",
      "...                                       ...                         ...   \n",
      "Stanton Heights                            84                          85   \n",
      "Squirrel Hill North                        79                          87   \n",
      "Allegheny Center                           83                          86   \n",
      "Arlington Heights                          88                          90   \n",
      "Fairywood                                  87                          89   \n",
      "\n",
      "                       EnergyBenefitsGas$  AirQualityBenefits$  co2Benefits$  \n",
      "NaN                                     0                    0             0  \n",
      "Troy Hill                               1                    1             2  \n",
      "South Shore                             2                    4             4  \n",
      "Strip District                          3                    5             5  \n",
      "Central Lawrenceville                   5                    7             7  \n",
      "...                                   ...                  ...           ...  \n",
      "Stanton Heights                        85                   87            86  \n",
      "Squirrel Hill North                    87                   89            89  \n",
      "Allegheny Center                       86                   90            88  \n",
      "Arlington Heights                      90                   86            73  \n",
      "Fairywood                              89                   88            90  \n",
      "\n",
      "[91 rows x 8 columns]\n"
     ]
    }
   ],
   "source": [
    "# maybe just take the snapshots at each test then at the end take the top like 10 and then graph those\n",
    "# have the stuff as a dataframe then use df.cumsum().plot() and sort out the rest later\n",
    "#graphingTrees = trees.pivot(columns='neighborhood', values='overall_benefits_dollar_value')\n",
    "#graphingTrees.cumsum().plot(figsize=(10,10))\n",
    "#sortedAvgPropertyValueBenefitsDollarValue.plot()\n",
    "points1 = pd.Series(np1)\n",
    "points2 = pd.Series(np2)\n",
    "points3 = pd.Series(np3)\n",
    "points4 = pd.Series(np4)\n",
    "points5 = pd.Series(np5)\n",
    "points6 = pd.Series(np6)\n",
    "points7 = pd.Series(np7)\n",
    "graphingPointsDict = {'Final Ranking':points, 'OverallBenefits$':points1, 'StormwaterBenefits$': points2, 'PropertyValueBenefits$':points3, \n",
    "                     'EnergyBenefitsElectricity$':points4, 'EnergyBenefitsGas$':points5, 'AirQualityBenefits$': points6,\n",
    "                     'co2Benefits$':points7}\n",
    "graphingPoints = pd.DataFrame(graphingPointsDict)\n",
    "print(graphingPoints)"
   ]
  },
  {
   "cell_type": "markdown",
   "id": "operational-blackjack",
   "metadata": {},
   "source": [
    "This code pulls together the gathered points and creates a new DataFrame that makes it easier to see patterns. Each of the dictionaries that was collecting the points for the individual categories are converted into a larger dictionary with labelled columns and then that is turned into the DataFrame. Final Ranking is the first column in the DataFrame because that way the neighborhoods are sorted according to where they ended up in the final rankings. "
   ]
  },
  {
   "cell_type": "markdown",
   "id": "commercial-symposium",
   "metadata": {},
   "source": [
    "With this new DataFrame filter out everything but the last 10 rows, the top 10 neighborhoods\n",
    "\n",
    "Then try the graphing stuff from there"
   ]
  },
  {
   "cell_type": "code",
   "execution_count": 18,
   "id": "ultimate-wages",
   "metadata": {},
   "outputs": [
    {
     "data": {
      "text/html": [
       "<div>\n",
       "<style scoped>\n",
       "    .dataframe tbody tr th:only-of-type {\n",
       "        vertical-align: middle;\n",
       "    }\n",
       "\n",
       "    .dataframe tbody tr th {\n",
       "        vertical-align: top;\n",
       "    }\n",
       "\n",
       "    .dataframe thead th {\n",
       "        text-align: right;\n",
       "    }\n",
       "</style>\n",
       "<table border=\"1\" class=\"dataframe\">\n",
       "  <thead>\n",
       "    <tr style=\"text-align: right;\">\n",
       "      <th></th>\n",
       "      <th>Final Ranking</th>\n",
       "      <th>OverallBenefits$</th>\n",
       "      <th>StormwaterBenefits$</th>\n",
       "      <th>PropertyValueBenefits$</th>\n",
       "      <th>EnergyBenefitsElectricity$</th>\n",
       "      <th>EnergyBenefitsGas$</th>\n",
       "      <th>AirQualityBenefits$</th>\n",
       "      <th>co2Benefits$</th>\n",
       "    </tr>\n",
       "  </thead>\n",
       "  <tbody>\n",
       "    <tr>\n",
       "      <th>Stanton Heights</th>\n",
       "      <td>598</td>\n",
       "      <td>85</td>\n",
       "      <td>86</td>\n",
       "      <td>84</td>\n",
       "      <td>85</td>\n",
       "      <td>85</td>\n",
       "      <td>87</td>\n",
       "      <td>86</td>\n",
       "    </tr>\n",
       "    <tr>\n",
       "      <th>Squirrel Hill North</th>\n",
       "      <td>603</td>\n",
       "      <td>84</td>\n",
       "      <td>88</td>\n",
       "      <td>79</td>\n",
       "      <td>87</td>\n",
       "      <td>87</td>\n",
       "      <td>89</td>\n",
       "      <td>89</td>\n",
       "    </tr>\n",
       "    <tr>\n",
       "      <th>Allegheny Center</th>\n",
       "      <td>607</td>\n",
       "      <td>87</td>\n",
       "      <td>87</td>\n",
       "      <td>83</td>\n",
       "      <td>86</td>\n",
       "      <td>86</td>\n",
       "      <td>90</td>\n",
       "      <td>88</td>\n",
       "    </tr>\n",
       "    <tr>\n",
       "      <th>Arlington Heights</th>\n",
       "      <td>607</td>\n",
       "      <td>90</td>\n",
       "      <td>90</td>\n",
       "      <td>88</td>\n",
       "      <td>90</td>\n",
       "      <td>90</td>\n",
       "      <td>86</td>\n",
       "      <td>73</td>\n",
       "    </tr>\n",
       "    <tr>\n",
       "      <th>Fairywood</th>\n",
       "      <td>621</td>\n",
       "      <td>89</td>\n",
       "      <td>89</td>\n",
       "      <td>87</td>\n",
       "      <td>89</td>\n",
       "      <td>89</td>\n",
       "      <td>88</td>\n",
       "      <td>90</td>\n",
       "    </tr>\n",
       "  </tbody>\n",
       "</table>\n",
       "</div>"
      ],
      "text/plain": [
       "                     Final Ranking  OverallBenefits$  StormwaterBenefits$  \\\n",
       "Stanton Heights                598                85                   86   \n",
       "Squirrel Hill North            603                84                   88   \n",
       "Allegheny Center               607                87                   87   \n",
       "Arlington Heights              607                90                   90   \n",
       "Fairywood                      621                89                   89   \n",
       "\n",
       "                     PropertyValueBenefits$  EnergyBenefitsElectricity$  \\\n",
       "Stanton Heights                          84                          85   \n",
       "Squirrel Hill North                      79                          87   \n",
       "Allegheny Center                         83                          86   \n",
       "Arlington Heights                        88                          90   \n",
       "Fairywood                                87                          89   \n",
       "\n",
       "                     EnergyBenefitsGas$  AirQualityBenefits$  co2Benefits$  \n",
       "Stanton Heights                      85                   87            86  \n",
       "Squirrel Hill North                  87                   89            89  \n",
       "Allegheny Center                     86                   90            88  \n",
       "Arlington Heights                    90                   86            73  \n",
       "Fairywood                            89                   88            90  "
      ]
     },
     "execution_count": 18,
     "metadata": {},
     "output_type": "execute_result"
    }
   ],
   "source": [
    "top5 = graphingPoints.tail(5)\n",
    "top5"
   ]
  },
  {
   "cell_type": "markdown",
   "id": "collected-category",
   "metadata": {},
   "source": [
    "This code just grabs the final 5 rows of the graphingPoints DataFrame because those five rows were the five neighborhoods that had the best score and by focusing on just the top 5 neighborhoods it is easier to graph and to determine which categories had the most impact on the final ranking."
   ]
  },
  {
   "cell_type": "code",
   "execution_count": 29,
   "id": "million-future",
   "metadata": {},
   "outputs": [
    {
     "data": {
      "text/plain": [
       "<matplotlib.legend.Legend at 0x259e45eec40>"
      ]
     },
     "execution_count": 29,
     "metadata": {},
     "output_type": "execute_result"
    },
    {
     "data": {
      "image/png": "[encoded data removed]",
      "text/plain": [
       "<Figure size 720x720 with 1 Axes>"
      ]
     },
     "metadata": {},
     "output_type": "display_data"
    }
   ],
   "source": [
    "topScore = top5.iloc[4].iloc[0]\n",
    "#print(topScore)\n",
    "plt.style.use('fivethirtyeight')\n",
    "top5.iloc[:,1:].plot(kind='bar',stacked='true', ylim=[0,topScore], figsize=(10,10))\n",
    "#use the iloc[:,1:] to avoid the final ranking column since that doesn't add much to the graph\n",
    "plt.legend(bbox_to_anchor=(1,1))"
   ]
  },
  {
   "cell_type": "markdown",
   "id": "understanding-designer",
   "metadata": {},
   "source": [
    "What this graph shows is that despite Arlington Heights leading for most of the categories (in fact in placed 1st in 4 of the 7 categories) it performed dismally on the final criteria, co2 benefit in dollar value, and thus not only did it fail to win the Tree criteria but it actually tied for second."
   ]
  },
  {
   "cell_type": "code",
   "execution_count": 20,
   "id": "flying-pollution",
   "metadata": {},
   "outputs": [
    {
     "data": {
      "text/html": [
       "<div>\n",
       "<style scoped>\n",
       "    .dataframe tbody tr th:only-of-type {\n",
       "        vertical-align: middle;\n",
       "    }\n",
       "\n",
       "    .dataframe tbody tr th {\n",
       "        vertical-align: top;\n",
       "    }\n",
       "\n",
       "    .dataframe thead th {\n",
       "        text-align: right;\n",
       "    }\n",
       "</style>\n",
       "<table border=\"1\" class=\"dataframe\">\n",
       "  <thead>\n",
       "    <tr style=\"text-align: right;\">\n",
       "      <th></th>\n",
       "      <th>OverallBenefits$</th>\n",
       "      <th>StormwaterBenefits$</th>\n",
       "      <th>PropertyValueBenefits$</th>\n",
       "      <th>EnergyBenefitsElectricity$</th>\n",
       "      <th>EnergyBenefitsGas$</th>\n",
       "      <th>AirQualityBenefits$</th>\n",
       "      <th>co2Benefits$</th>\n",
       "    </tr>\n",
       "  </thead>\n",
       "  <tbody>\n",
       "    <tr>\n",
       "      <th>Stanton Heights</th>\n",
       "      <td>85</td>\n",
       "      <td>86</td>\n",
       "      <td>84</td>\n",
       "      <td>85</td>\n",
       "      <td>85</td>\n",
       "      <td>87</td>\n",
       "      <td>86</td>\n",
       "    </tr>\n",
       "    <tr>\n",
       "      <th>Squirrel Hill North</th>\n",
       "      <td>84</td>\n",
       "      <td>88</td>\n",
       "      <td>79</td>\n",
       "      <td>87</td>\n",
       "      <td>87</td>\n",
       "      <td>89</td>\n",
       "      <td>89</td>\n",
       "    </tr>\n",
       "    <tr>\n",
       "      <th>Allegheny Center</th>\n",
       "      <td>87</td>\n",
       "      <td>87</td>\n",
       "      <td>83</td>\n",
       "      <td>86</td>\n",
       "      <td>86</td>\n",
       "      <td>90</td>\n",
       "      <td>88</td>\n",
       "    </tr>\n",
       "    <tr>\n",
       "      <th>Arlington Heights</th>\n",
       "      <td>90</td>\n",
       "      <td>90</td>\n",
       "      <td>88</td>\n",
       "      <td>90</td>\n",
       "      <td>90</td>\n",
       "      <td>86</td>\n",
       "      <td>73</td>\n",
       "    </tr>\n",
       "    <tr>\n",
       "      <th>Fairywood</th>\n",
       "      <td>89</td>\n",
       "      <td>89</td>\n",
       "      <td>87</td>\n",
       "      <td>89</td>\n",
       "      <td>89</td>\n",
       "      <td>88</td>\n",
       "      <td>90</td>\n",
       "    </tr>\n",
       "  </tbody>\n",
       "</table>\n",
       "</div>"
      ],
      "text/plain": [
       "                     OverallBenefits$  StormwaterBenefits$  \\\n",
       "Stanton Heights                    85                   86   \n",
       "Squirrel Hill North                84                   88   \n",
       "Allegheny Center                   87                   87   \n",
       "Arlington Heights                  90                   90   \n",
       "Fairywood                          89                   89   \n",
       "\n",
       "                     PropertyValueBenefits$  EnergyBenefitsElectricity$  \\\n",
       "Stanton Heights                          84                          85   \n",
       "Squirrel Hill North                      79                          87   \n",
       "Allegheny Center                         83                          86   \n",
       "Arlington Heights                        88                          90   \n",
       "Fairywood                                87                          89   \n",
       "\n",
       "                     EnergyBenefitsGas$  AirQualityBenefits$  co2Benefits$  \n",
       "Stanton Heights                      85                   87            86  \n",
       "Squirrel Hill North                  87                   89            89  \n",
       "Allegheny Center                     86                   90            88  \n",
       "Arlington Heights                    90                   86            73  \n",
       "Fairywood                            89                   88            90  "
      ]
     },
     "execution_count": 20,
     "metadata": {},
     "output_type": "execute_result"
    }
   ],
   "source": [
    "#top5.plot(kind='bar', stacked='true')\n",
    "top5.iloc[:,1:]"
   ]
  },
  {
   "cell_type": "markdown",
   "id": "narrative-purchase",
   "metadata": {},
   "source": [
    "## The stuff below this cell is sort of random and just test stuff, probably not really worth looking at ## "
   ]
  },
  {
   "cell_type": "code",
   "execution_count": 21,
   "id": "systematic-amount",
   "metadata": {},
   "outputs": [
    {
     "name": "stdout",
     "output_type": "stream",
     "text": [
      "neighborhood\n",
      "Allegheny Center        0.794220\n",
      "Allegheny West         15.178378\n",
      "Allentown              22.378788\n",
      "Arlington              20.531915\n",
      "Arlington Heights      42.600000\n",
      "                         ...    \n",
      "Upper Lawrenceville    25.894578\n",
      "West End               22.084034\n",
      "West Oakland           16.957746\n",
      "Westwood               29.581673\n",
      "Windgap                29.417476\n",
      "Name: height, Length: 90, dtype: float64\n"
     ]
    }
   ],
   "source": [
    "avgHeight = trees.groupby('neighborhood')['height'].mean()\n",
    "print(avgHeight)"
   ]
  },
  {
   "cell_type": "code",
   "execution_count": 22,
   "id": "expanded-hypothesis",
   "metadata": {},
   "outputs": [
    {
     "name": "stdout",
     "output_type": "stream",
     "text": [
      "neighborhood\n",
      "Allegheny Center        0.794220\n",
      "Perry North             9.918803\n",
      "Troy Hill              11.350962\n",
      "Highland Park          12.028169\n",
      "Squirrel Hill South    13.806197\n",
      "                         ...    \n",
      "East Hills             37.212121\n",
      "St. Clair              38.500000\n",
      "Arlington Heights      42.600000\n",
      "Fairywood              42.964286\n",
      "Hays                   45.000000\n",
      "Name: height, Length: 90, dtype: float64\n"
     ]
    }
   ],
   "source": [
    "print(avgHeight.sort_values())\n",
    "sortedAvgHeight = avgHeight.sort_values()"
   ]
  },
  {
   "cell_type": "code",
   "execution_count": 23,
   "id": "irish-persian",
   "metadata": {},
   "outputs": [
    {
     "name": "stdout",
     "output_type": "stream",
     "text": [
      "90\n"
     ]
    }
   ],
   "source": [
    "print(len(sortedAvgHeight))"
   ]
  },
  {
   "cell_type": "code",
   "execution_count": 24,
   "id": "sound-genius",
   "metadata": {},
   "outputs": [
    {
     "name": "stdout",
     "output_type": "stream",
     "text": [
      "neighborhood\n",
      "Allegheny Center       171.791881\n",
      "Allegheny West         149.084659\n",
      "Allentown              120.451284\n",
      "Arlington               71.204809\n",
      "Arlington Heights      218.471558\n",
      "                          ...    \n",
      "Upper Lawrenceville    111.307346\n",
      "West End                82.564056\n",
      "West Oakland            76.122696\n",
      "Westwood               126.776044\n",
      "Windgap                135.477024\n",
      "Name: overall_benefits_dollar_value, Length: 90, dtype: float64\n"
     ]
    }
   ],
   "source": [
    "avgOverallBenefitsDollarValue = treesByNeighborhood['overall_benefits_dollar_value'].mean()\n",
    "print(avgOverallBenefitsDollarValue)"
   ]
  },
  {
   "cell_type": "code",
   "execution_count": 25,
   "id": "mounted-chorus",
   "metadata": {},
   "outputs": [
    {
     "name": "stdout",
     "output_type": "stream",
     "text": [
      "neighborhood\n",
      "Troy Hill                 43.015155\n",
      "South Shore               45.616670\n",
      "Polish Hill               65.607477\n",
      "Central Lawrenceville     66.689438\n",
      "Strip District            69.347687\n",
      "                            ...    \n",
      "St. Clair                170.079518\n",
      "Allegheny Center         171.791881\n",
      "Hays                     181.397515\n",
      "Fairywood                207.420886\n",
      "Arlington Heights        218.471558\n",
      "Name: overall_benefits_dollar_value, Length: 90, dtype: float64\n"
     ]
    }
   ],
   "source": [
    "sortedAvgOverallBenefitsDollarValue = avgOverallBenefitsDollarValue.sort_values()\n",
    "print(sortedAvgOverallBenefitsDollarValue)"
   ]
  },
  {
   "cell_type": "code",
   "execution_count": 26,
   "id": "sized-samba",
   "metadata": {},
   "outputs": [
    {
     "name": "stdout",
     "output_type": "stream",
     "text": [
      "NaN                        0\n",
      "Troy Hill                  9\n",
      "South Shore               17\n",
      "Strip District            34\n",
      "Central Lawrenceville     40\n",
      "                        ... \n",
      "Stanton Heights          598\n",
      "Squirrel Hill North      603\n",
      "Allegheny Center         607\n",
      "Arlington Heights        607\n",
      "Fairywood                621\n",
      "Length: 91, dtype: int64\n"
     ]
    }
   ],
   "source": [
    "#This is what is currently breaking\n",
    "\n",
    "#pointsAwarded = pd.Series()\n",
    "\n",
    "#maybe sort by Index (labels)\n",
    "\n",
    "#for i in range(len(sortedAvgOverallBenefitsDollarValue)):\n",
    "    #print(sortedAvgOverallBenefitsDollarValue[i])\n",
    "    #print(sortedAvgOverallBenefitsDollarValue.keys)\n",
    "    #print(points.get(sortedAvgOverallBenefitsDollarValue[i]))\n",
    "    #points.get(sortedAvgOverallBenefitsDollarValue[i]) = points.get(sortedAvgOverallBenefitsDollarValue[i]) + (i+1)\n",
    "    #print((sortedAvgOverallBenefitsDollarValue[i], i))\n",
    "\n",
    "print(points)"
   ]
  },
  {
   "cell_type": "code",
   "execution_count": 27,
   "id": "reported-civilization",
   "metadata": {},
   "outputs": [
    {
     "name": "stdout",
     "output_type": "stream",
     "text": [
      "<bound method Series.keys of neighborhood\n",
      "Troy Hill                 43.015155\n",
      "South Shore               45.616670\n",
      "Polish Hill               65.607477\n",
      "Central Lawrenceville     66.689438\n",
      "Strip District            69.347687\n",
      "                            ...    \n",
      "St. Clair                170.079518\n",
      "Allegheny Center         171.791881\n",
      "Hays                     181.397515\n",
      "Fairywood                207.420886\n",
      "Arlington Heights        218.471558\n",
      "Name: overall_benefits_dollar_value, Length: 90, dtype: float64>\n",
      "<class 'method'>\n"
     ]
    }
   ],
   "source": [
    "print(sortedAvgOverallBenefitsDollarValue.keys)\n",
    "print(type(sortedAvgOverallBenefitsDollarValue.keys))"
   ]
  },
  {
   "cell_type": "code",
   "execution_count": null,
   "id": "drawn-louisville",
   "metadata": {},
   "outputs": [],
   "source": []
  }
 ],
 "metadata": {
  "kernelspec": {
   "display_name": "Python 3",
   "language": "python",
   "name": "python3"
  },
  "language_info": {
   "codemirror_mode": {
    "name": "ipython",
    "version": 3
   },
   "file_extension": ".py",
   "mimetype": "text/x-python",
   "name": "python",
   "nbconvert_exporter": "python",
   "pygments_lexer": "ipython3",
   "version": "3.8.5"
  }
 },
 "nbformat": 4,
 "nbformat_minor": 5
}
